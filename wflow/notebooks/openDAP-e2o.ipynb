{
 "cells": [
  {
   "cell_type": "markdown",
   "metadata": {
    "slideshow": {
     "slide_type": "slide"
    }
   },
   "source": [
    "# Get data from eartH2Observe OpeNDAP server"
   ]
  },
  {
   "cell_type": "markdown",
   "metadata": {
    "slideshow": {
     "slide_type": "fragment"
    }
   },
   "source": [
    "This small notebook shows how the get data from the eartH2Observe OpeNDAP server using python and the netCDF4 package. To run it make sure you notebook server is started like this:\n",
    "\n",
    "- ipython notebook --pylab=inline\n",
    "\n",
    "If you want to run this outside of ipython just download the .py file. IN that case make sure to import numpy and scipy first.\n",
    "\n",
    "\n",
    "See also: https://publicwiki.deltares.nl/display/OET/OPeNDAP+subsetting+with+python\n",
    "\n"
   ]
  },
  {
   "cell_type": "markdown",
   "metadata": {
    "slideshow": {
     "slide_type": "fragment"
    }
   },
   "source": [
    "<b>Catalog</b>\n",
    "\n",
    "http://wci.earth2observe.eu/thredds/catalog.html\n",
    "\n"
   ]
  },
  {
   "cell_type": "code",
   "execution_count": null,
   "metadata": {
    "collapsed": false,
    "slideshow": {
     "slide_type": "slide"
    }
   },
   "outputs": [],
   "source": [
    "#!/usr/bin/env python\n",
    "# we need the netcdf4 library. This allows us to read netcdf from OpeNDAP or files\n",
    "import netCDF4\n",
    "\n",
    "# Uncomment these if needed\n",
    "#from numpy import *\n",
    "#from scipy import *\n",
    "\n",
    "# specify an url\n",
    "rainurl = 'http://wci.earth2observe.eu/thredds/dodsC/ecmwf/met_forcing_v0/2012/Rainf_daily_E2OBS_201201.nc'\n",
    "\n",
    "# create a dataset object\n",
    "raindataset = netCDF4.Dataset(rainurl)\n",
    "%pylab inline"
   ]
  },
  {
   "cell_type": "code",
   "execution_count": null,
   "metadata": {
    "collapsed": false
   },
   "outputs": [],
   "source": [
    "def getlat(ncdataset):\n",
    "    \"\"\"\n",
    "    \"\"\"\n",
    "\n",
    "    for a in ncdataset.variables:\n",
    "        if  ncdataset.variables[a].standard_name == 'latitude':\n",
    "            return ncdataset.variables[a]\n",
    "    \n",
    "    return None\n",
    "\n",
    "\n",
    "def getlon(ncdataset):\n",
    "    \"\"\"\n",
    "    \"\"\"\n",
    "\n",
    "    for a in ncdataset.variables:\n",
    "        if  ncdataset.variables[a].standard_name == 'longitude':\n",
    "            return ncdataset.variables[a]\n",
    "    \n",
    "    return None\n",
    "\n",
    "def getheigth(ncdataset):\n",
    "    \"\"\"\n",
    "    \"\"\"\n",
    "\n",
    "    for a in ncdataset.variables:\n",
    "        if  ncdataset.variables[a].standard_name == 'height':\n",
    "            return ncdataset.variables[a]\n",
    "    \n",
    "    return None\n",
    "\n",
    "\n",
    "a= getlon(raindataset)"
   ]
  },
  {
   "cell_type": "code",
   "execution_count": null,
   "metadata": {
    "collapsed": false
   },
   "outputs": [],
   "source": [
    "a.shape"
   ]
  },
  {
   "cell_type": "code",
   "execution_count": null,
   "metadata": {
    "collapsed": false,
    "slideshow": {
     "slide_type": "slide"
    }
   },
   "outputs": [],
   "source": [
    "# Get some data ......\n",
    "# note that with larg set you do not want to read all in memory at once like we do here\n",
    "precip = raindataset.variables['Rainf'][:]\n",
    "lat = raindataset.variables['lat'][:]\n",
    "lon = raindataset.variables['lon'][:]\n",
    "\n",
    "# Show the max value in the matrix\n",
    "precip[1,:,:].max()"
   ]
  },
  {
   "cell_type": "code",
   "execution_count": null,
   "metadata": {
    "collapsed": false,
    "slideshow": {
     "slide_type": "subslide"
    }
   },
   "outputs": [],
   "source": [
    "# Display the units\n",
    "raindataset.variables['Rainf'].units"
   ]
  },
  {
   "cell_type": "markdown",
   "metadata": {
    "slideshow": {
     "slide_type": "slide"
    }
   },
   "source": [
    "Now let's make a plot to see the contents of the file"
   ]
  },
  {
   "cell_type": "code",
   "execution_count": null,
   "metadata": {
    "collapsed": false,
    "slideshow": {
     "slide_type": "subslide"
    }
   },
   "outputs": [],
   "source": [
    "f, ax = plt.subplots(figsize=(16, 9))\n",
    "Lon,Lat = meshgrid(lon, lat)\n",
    "mesh = pcolormesh(Lon,Lat,log( 0.000001 + precip[1,:,:]),cmap='hot')\n"
   ]
  },
  {
   "cell_type": "markdown",
   "metadata": {},
   "source": [
    "# Extract data for a catchment."
   ]
  },
  {
   "cell_type": "code",
   "execution_count": null,
   "metadata": {
    "collapsed": false
   },
   "outputs": [],
   "source": [
    "# Select lat and long for our cathcment\n",
    "# Bounding box for our catchment\n",
    "BB = dict(\n",
    "   lon=[ 143, 150],\n",
    "   lat=[-37, -33]\n",
    "   )\n",
    " \n",
    "(latidx,) = logical_and(lat >= BB['lat'][0], lat < BB['lat'][1]).nonzero()\n",
    "(lonidx,) = logical_and(lon >= BB['lon'][0], lon < BB['lon'][1]).nonzero()\n",
    "\n",
    "# get rid of the non used lat/lon now\n",
    "lat = lat[latidx]\n",
    "lon = lon[lonidx]\n",
    "# Now get the time for the x-axis\n",
    "time = raindataset.variables['time']\n",
    "timeObj = netCDF4.num2date(time[:], units=time.units, calendar=time.calendar)"
   ]
  },
  {
   "cell_type": "code",
   "execution_count": null,
   "metadata": {
    "collapsed": false
   },
   "outputs": [],
   "source": [
    "#Now determine area P for each timestep and display in a graph\n",
    "# first  the mean per area lat, next average those also\n",
    "# Multiply with timestep in seconds to get mm\n",
    "p_select = precip[:,latidx.min():latidx.max(),lonidx.min():lonidx.max()]"
   ]
  },
  {
   "cell_type": "code",
   "execution_count": null,
   "metadata": {
    "collapsed": false
   },
   "outputs": [],
   "source": [
    "# PLot the sum over this month for the subcatchment\n",
    "\n",
    "Lon,Lat = meshgrid(lon, lat)\n",
    "mesh = pcolormesh(Lon,Lat,p_select.sum(axis=0))\n",
    "title(\"Cumulative precipitation\")\n"
   ]
  },
  {
   "cell_type": "code",
   "execution_count": null,
   "metadata": {
    "collapsed": false
   },
   "outputs": [],
   "source": [
    "p_mean = p_select.mean(axis=2).mean(axis=1) * hstack((diff(time[:]),mean(diff(time[:]))))"
   ]
  },
  {
   "cell_type": "code",
   "execution_count": null,
   "metadata": {
    "collapsed": false
   },
   "outputs": [],
   "source": [
    "f, ax = plt.subplots(figsize=(16, 6))\n",
    "ax.plot(timeObj,p_mean)\n",
    "title(\"Precipitation\")"
   ]
  },
  {
   "cell_type": "code",
   "execution_count": null,
   "metadata": {
    "collapsed": false
   },
   "outputs": [],
   "source": [
    "#Save to disk\n",
    "\n",
    "p_select = precip[:,latidx.min():latidx.max(),lonidx.min():lonidx.max()]"
   ]
  },
  {
   "cell_type": "code",
   "execution_count": null,
   "metadata": {
    "collapsed": false
   },
   "outputs": [],
   "source": []
  }
 ],
 "metadata": {
  "kernelspec": {
   "display_name": "Python 2",
   "language": "python",
   "name": "python2"
  },
  "language_info": {
   "codemirror_mode": {
    "name": "ipython",
    "version": 2
   },
   "file_extension": ".py",
   "mimetype": "text/x-python",
   "name": "python",
   "nbconvert_exporter": "python",
   "pygments_lexer": "ipython2",
   "version": "2.7.9"
  }
 },
 "nbformat": 4,
 "nbformat_minor": 0
}
